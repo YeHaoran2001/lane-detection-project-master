{
 "cells": [
  {
   "cell_type": "code",
   "execution_count": 2,
   "metadata": {},
   "outputs": [],
   "source": [
    "import pickle\n",
    "import cv2\n",
    "import numpy as np"
   ]
  },
  {
   "cell_type": "code",
   "execution_count": 3,
   "metadata": {},
   "outputs": [],
   "source": [
    "def undistort(img, cal_dir='cal_pickle.p'):\n",
    "\t#undistorting frame\n",
    "    with open(cal_dir, mode='rb') as f:\n",
    "        file = pickle.load(f)\n",
    "    mtx = file['mtx']\n",
    "    dist = file['dist']\n",
    "    dst = cv2.undistort(img, mtx, dist, None, mtx)\n",
    "    return dst"
   ]
  },
  {
   "cell_type": "code",
   "execution_count": 4,
   "metadata": {},
   "outputs": [],
   "source": [
    "def colorFilter(img):\n",
    "\t#applying color filter for specific color(considering yellow and white color)\n",
    "    hsv = cv2.cvtColor(img,cv2.COLOR_BGR2HSV)\n",
    "    lowerYellow = np.array([18,94,140]) \n",
    "    upperYellow = np.array([48,255,255])\n",
    "    lowerWhite = np.array([0, 0, 200])\n",
    "    upperWhite = np.array([255, 255, 255])\n",
    "    maskedWhite= cv2.inRange(hsv,lowerWhite,upperWhite)\n",
    "    maskedYellow = cv2.inRange(hsv, lowerYellow, upperYellow)\n",
    "    combinedImage = cv2.bitwise_or(maskedWhite,maskedYellow)\n",
    "    return combinedImage \n"
   ]
  },
  {
   "cell_type": "code",
   "execution_count": 5,
   "metadata": {},
   "outputs": [
    {
     "ename": "NameError",
     "evalue": "name 'thresholding' is not defined",
     "output_type": "error",
     "traceback": [
      "\u001b[1;31m---------------------------------------------------------------------------\u001b[0m",
      "\u001b[1;31mNameError\u001b[0m                                 Traceback (most recent call last)",
      "\u001b[1;32m~\\AppData\\Local\\Temp/ipykernel_11796/2241485217.py\u001b[0m in \u001b[0;36m<module>\u001b[1;34m\u001b[0m\n\u001b[0;32m      1\u001b[0m \u001b[0mimg\u001b[0m \u001b[1;33m=\u001b[0m \u001b[0mcv2\u001b[0m\u001b[1;33m.\u001b[0m\u001b[0mimread\u001b[0m\u001b[1;33m(\u001b[0m\u001b[1;34m'test.jpg'\u001b[0m\u001b[1;33m)\u001b[0m\u001b[1;33m\u001b[0m\u001b[1;33m\u001b[0m\u001b[0m\n\u001b[0;32m      2\u001b[0m \u001b[0mdst\u001b[0m \u001b[1;33m=\u001b[0m \u001b[0mundistort\u001b[0m\u001b[1;33m(\u001b[0m\u001b[0mimg\u001b[0m\u001b[1;33m)\u001b[0m\u001b[1;33m\u001b[0m\u001b[1;33m\u001b[0m\u001b[0m\n\u001b[1;32m----> 3\u001b[1;33m \u001b[0mcombinedImage\u001b[0m\u001b[1;33m,\u001b[0m\u001b[0mimgCanny\u001b[0m\u001b[1;33m,\u001b[0m \u001b[0mimgColor\u001b[0m \u001b[1;33m=\u001b[0m \u001b[0mthresholding\u001b[0m\u001b[1;33m(\u001b[0m\u001b[0mdst\u001b[0m\u001b[1;33m)\u001b[0m\u001b[1;33m\u001b[0m\u001b[1;33m\u001b[0m\u001b[0m\n\u001b[0m\u001b[0;32m      4\u001b[0m \u001b[1;33m\u001b[0m\u001b[0m\n\u001b[0;32m      5\u001b[0m \u001b[0mcv2\u001b[0m\u001b[1;33m.\u001b[0m\u001b[0mimshow\u001b[0m\u001b[1;33m(\u001b[0m\u001b[1;34m'dst'\u001b[0m\u001b[1;33m,\u001b[0m \u001b[0mdst\u001b[0m\u001b[1;33m)\u001b[0m\u001b[1;33m\u001b[0m\u001b[1;33m\u001b[0m\u001b[0m\n",
      "\u001b[1;31mNameError\u001b[0m: name 'thresholding' is not defined"
     ]
    }
   ],
   "source": [
    "img = cv2.imread('test.jpg')\n",
    "dst = undistort(img)\n",
    "combinedImage,imgCanny, imgColor = thresholding(dst)\n",
    "\n",
    "cv2.imshow('dst', dst)\n",
    "# cv2.imshow('color', imgColor)\n",
    "# cv2.imshow('erode', imgErode)\n",
    "cv2.imshow('ths', combinedImage)\n",
    "\n",
    "cv2.waitKey()\n",
    "cv2.destroyAllWindows()"
   ]
  },
  {
   "cell_type": "code",
   "execution_count": 6,
   "metadata": {},
   "outputs": [],
   "source": [
    "def drawPoints(img, src):\n",
    "\t#drawing circles on frame\n",
    "    img_size = np.float32([(img.shape[1],img.shape[0])])\n",
    "    #src = np.float32([(0.43, 0.65), (0.58, 0.65), (0.1, 1), (1, 1)])\n",
    "    src = src * img_size\n",
    "    for x in range( 0,4): \n",
    "        cv2.circle(img,(int(src[x][0]),int(src[x][1])),10,(0,255,0),cv2.FILLED)\n",
    "    return img"
   ]
  },
  {
   "cell_type": "code",
   "execution_count": null,
   "metadata": {},
   "outputs": [],
   "source": [
    "\n",
    "img = cv2.imread('test.jpg')\n",
    "# img = drawPoints(img, src)\n",
    "# cv2.imshow('img', img)\n",
    "# cv2.waitKey()\n",
    "# cv2.destroyAllWindows()"
   ]
  },
  {
   "cell_type": "code",
   "execution_count": 7,
   "metadata": {},
   "outputs": [],
   "source": [
    "def perspective_warp(img,\n",
    "                     dst_size=(1280, 720),\n",
    "                     src=np.float32([(0.43,0.65),(0.58,0.65),(0.1,1),(1,1)]),\n",
    "                     dst=np.float32([(0,0), (1, 0), (0,1), (1,1)])):\n",
    "    img_size = np.float32([(img.shape[1],img.shape[0])])\n",
    "    src = src* img_size\n",
    "    # For destination points, I'm arbitrarily choosing some points to be\n",
    "    # a nice fit for displaying our warped result\n",
    "    # again, not exact, but close enough for our purposes\n",
    "    dst = dst * np.float32(dst_size)\n",
    "    # Given src and dst points, calculate the perspective transform matrix\n",
    "    M = cv2.getPerspectiveTransform(src, dst)\n",
    "    # Warp the image using OpenCV warpPerspective()\n",
    "    warped = cv2.warpPerspective(img, M, dst_size)\n",
    "\n",
    "    return warped"
   ]
  },
  {
   "cell_type": "code",
   "execution_count": 12,
   "metadata": {},
   "outputs": [],
   "source": [
    "src = np.float32([(0.43, 0.65), (0.58, 0.65), (0.1, 1), (1, 1)])\n",
    "img = cv2.imread('test.jpg')\n",
    "warped = perspective_warp(img)\n",
    "img = drawPoints(img, src)\n",
    "cv2.imshow('warped', warped)\n",
    "cv2.imshow('img', img)\n",
    "cv2.waitKey()\n",
    "cv2.destroyAllWindows()"
   ]
  },
  {
   "cell_type": "code",
   "execution_count": 13,
   "metadata": {},
   "outputs": [
    {
     "name": "stdout",
     "output_type": "stream",
     "text": [
      "[[11485 11513 12401]\n",
      " [11584 11664 12526]\n",
      " [11768 11811 12704]\n",
      " ...\n",
      " [13218 16299 15594]\n",
      " [12873 16019 15260]\n",
      " [12980 16046 15341]]\n"
     ]
    }
   ],
   "source": [
    "def get_hist(img):\n",
    "    hist = np.sum(img[img.shape[0]//2:,:], axis=0)\n",
    "    return hist\n",
    "hist = get_hist(img)\n",
    "print(hist)"
   ]
  },
  {
   "cell_type": "code",
   "execution_count": 14,
   "metadata": {},
   "outputs": [
    {
     "name": "stdout",
     "output_type": "stream",
     "text": [
      "[ 6.95246222e-310  1.35181193e-311 -0.00000000e+000]\n"
     ]
    }
   ],
   "source": [
    "print(np.empty(3))"
   ]
  },
  {
   "cell_type": "code",
   "execution_count": 6,
   "metadata": {},
   "outputs": [
    {
     "name": "stdout",
     "output_type": "stream",
     "text": [
      "(317, 563, 3)\n",
      "(317, 563, 9)\n",
      "True\n"
     ]
    }
   ],
   "source": [
    "\n",
    "img = cv2.imread('test.jpg')\n",
    "print(img.shape)\n",
    "out_img = np.dstack((img, img, img)) * 255\n",
    "print(out_img.shape)\n",
    "print((out_img[:,:,0:3]==out_img[:,:,3:6]).all())\n",
    "# cv2.imshow('img', out_img)\n",
    "# cv2.waitKey()\n",
    "# cv2.destroyAllWindows()"
   ]
  },
  {
   "cell_type": "code",
   "execution_count": 1,
   "metadata": {},
   "outputs": [],
   "source": [
    "import cv2"
   ]
  },
  {
   "cell_type": "code",
   "execution_count": 9,
   "metadata": {},
   "outputs": [
    {
     "name": "stdout",
     "output_type": "stream",
     "text": [
      "(317, 563, 3)\n"
     ]
    }
   ],
   "source": [
    "img = cv2.imread('./data/image/straight.jpg')\n",
    "print(img.shape)"
   ]
  }
 ],
 "metadata": {
  "kernelspec": {
   "display_name": "Python 3.9.7 ('base')",
   "language": "python",
   "name": "python3"
  },
  "language_info": {
   "codemirror_mode": {
    "name": "ipython",
    "version": 3
   },
   "file_extension": ".py",
   "mimetype": "text/x-python",
   "name": "python",
   "nbconvert_exporter": "python",
   "pygments_lexer": "ipython3",
   "version": "3.9.7"
  },
  "orig_nbformat": 4,
  "vscode": {
   "interpreter": {
    "hash": "88279d2366fe020547cde40dd65aa0e3aa662a6ec1f3ca12d88834876c85e1a6"
   }
  }
 },
 "nbformat": 4,
 "nbformat_minor": 2
}
